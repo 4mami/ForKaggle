{
  "cells": [
    {
      "cell_type": "markdown",
      "metadata": {
        "id": "view-in-github",
        "colab_type": "text"
      },
      "source": [
        "<a href=\"https://colab.research.google.com/github/4mami/ForKaggle/blob/main/BikeSharingDemand.ipynb\" target=\"_parent\"><img src=\"https://colab.research.google.com/assets/colab-badge.svg\" alt=\"Open In Colab\"/></a>"
      ]
    },
    {
      "cell_type": "code",
      "execution_count": null,
      "id": "79226aa9",
      "metadata": {
        "_cell_guid": "b1076dfc-b9ad-4769-8c92-a6c4dae69d19",
        "_uuid": "8f2839f25d086af736a60e9eeb907d3b93b6e0e5",
        "execution": {
          "iopub.execute_input": "2022-11-09T06:50:08.598129Z",
          "iopub.status.busy": "2022-11-09T06:50:08.596961Z",
          "iopub.status.idle": "2022-11-09T06:50:10.540552Z",
          "shell.execute_reply": "2022-11-09T06:50:10.539575Z"
        },
        "papermill": {
          "duration": 1.952637,
          "end_time": "2022-11-09T06:50:10.543195",
          "exception": false,
          "start_time": "2022-11-09T06:50:08.590558",
          "status": "completed"
        },
        "tags": [],
        "id": "79226aa9"
      },
      "outputs": [],
      "source": [
        "# This Python 3 environment comes with many helpful analytics libraries installed\n",
        "# It is defined by the kaggle/python Docker image: https://github.com/kaggle/docker-python\n",
        "# For example, here's several helpful packages to load\n",
        "import numpy as np # linear algebra\n",
        "import pandas as pd # data processing, CSV file I/O (e.g. pd.read_csv)\n",
        "import torch\n",
        "import torch.nn as nn\n",
        "import torch.nn.functional as F\n",
        "import torch.optim as optim\n",
        "from torch.utils.data import DataLoader, Dataset\n",
        "\n",
        "SEED = 1234\n",
        "BATCH_SIZE = 8\n",
        "SEQUENCE_LENGTH = 24\n",
        "TARGET_COLUMN = \"count\"\n",
        "\n",
        "np.random.seed(SEED)\n",
        "torch.manual_seed(SEED)\n",
        "torch.cuda.manual_seed(SEED)\n",
        "\n",
        "# You can write up to 20GB to the current directory (/kaggle/working/) that gets preserved as output when you create a version using \"Save & Run All\" \n",
        "# You can also write temporary files to /kaggle/temp/, but they won't be saved outside of the current session\n",
        "train_df = pd.read_csv(\"train.csv\")\n",
        "test_df = pd.read_csv(\"test.csv\")"
      ]
    },
    {
      "cell_type": "code",
      "execution_count": null,
      "id": "1aea17ce",
      "metadata": {
        "execution": {
          "iopub.execute_input": "2022-11-09T06:50:10.550859Z",
          "iopub.status.busy": "2022-11-09T06:50:10.550577Z",
          "iopub.status.idle": "2022-11-09T06:50:10.569226Z",
          "shell.execute_reply": "2022-11-09T06:50:10.568062Z"
        },
        "papermill": {
          "duration": 0.027439,
          "end_time": "2022-11-09T06:50:10.573996",
          "exception": false,
          "start_time": "2022-11-09T06:50:10.546557",
          "status": "completed"
        },
        "tags": [],
        "id": "1aea17ce"
      },
      "outputs": [],
      "source": [
        "# 訓練データの加工\n",
        "# 不要な列の削除\n",
        "train_df = train_df.drop(\"casual\", axis=1)\n",
        "train_df = train_df.drop(\"registered\", axis=1)\n",
        "\n",
        "features = list(train_df.columns.difference([TARGET_COLUMN, \"datetime\"]))\n",
        "print(f\"features: {features}\")\n",
        "print(f\"features num: {len(features)}\")\n",
        "\n",
        "# 1時間後を予測するので、各行のcountをずらす\n",
        "predict_lead = 1\n",
        "target = f\"{TARGET_COLUMN}_lead{predict_lead}\"\n",
        "train_df[target] = train_df[TARGET_COLUMN].shift(-predict_lead)\n",
        "train_df = train_df.iloc[:-predict_lead]"
      ]
    },
    {
      "cell_type": "code",
      "execution_count": null,
      "id": "ed6f2cc5",
      "metadata": {
        "execution": {
          "iopub.execute_input": "2022-11-09T06:50:10.582191Z",
          "iopub.status.busy": "2022-11-09T06:50:10.581878Z",
          "iopub.status.idle": "2022-11-09T06:50:10.601044Z",
          "shell.execute_reply": "2022-11-09T06:50:10.599884Z"
        },
        "papermill": {
          "duration": 0.026191,
          "end_time": "2022-11-09T06:50:10.603743",
          "exception": false,
          "start_time": "2022-11-09T06:50:10.577552",
          "status": "completed"
        },
        "tags": [],
        "id": "ed6f2cc5"
      },
      "outputs": [],
      "source": [
        "# 訓練データの一部を検証データとして使う\n",
        "train_len = round(len(train_df) * 0.8)\n",
        "print(f\"train_len: {train_len}\")\n",
        "\n",
        "val_df = train_df.iloc[train_len:].copy()\n",
        "print(f\"len(val_df): {len(val_df)}\")\n",
        "train_df = train_df.iloc[:train_len].copy()\n",
        "print(f\"len(train_df): {len(train_df)}\")\n",
        "\n",
        "# temp、atemp、humidity、windspeed列の値の正規化\n",
        "standardize_target = [\"temp\",\"atemp\",\"humidity\",\"windspeed\"]\n",
        "for c in standardize_target:\n",
        "    mean = train_df[c].mean()\n",
        "    stdev = train_df[c].std()\n",
        "    \n",
        "    train_df[c] = (train_df[c] - mean) / stdev\n",
        "    test_df[c] = (test_df[c] - mean) / stdev\n",
        "    val_df[c] = (val_df[c] - mean) / stdev"
      ]
    },
    {
      "cell_type": "code",
      "execution_count": null,
      "id": "19aca912",
      "metadata": {
        "execution": {
          "iopub.execute_input": "2022-11-09T06:50:10.613186Z",
          "iopub.status.busy": "2022-11-09T06:50:10.611668Z",
          "iopub.status.idle": "2022-11-09T06:50:10.621746Z",
          "shell.execute_reply": "2022-11-09T06:50:10.620821Z"
        },
        "papermill": {
          "duration": 0.016672,
          "end_time": "2022-11-09T06:50:10.623955",
          "exception": false,
          "start_time": "2022-11-09T06:50:10.607283",
          "status": "completed"
        },
        "tags": [],
        "id": "19aca912"
      },
      "outputs": [],
      "source": [
        "# 訓練データセットクラス\n",
        "class SequenceDataset(Dataset):\n",
        "    def __init__(self, dataframe, target, features, sequence_length=SEQUENCE_LENGTH):\n",
        "        self.target = target\n",
        "        self.features = features\n",
        "        self.sequence_length = sequence_length\n",
        "        self.y = torch.tensor(dataframe[target].values).float()\n",
        "        self.X = torch.tensor(dataframe[features].values).float()\n",
        "        \n",
        "    def __len__(self):\n",
        "        return self.X.shape[0]\n",
        "    \n",
        "    def __getitem__(self, i):\n",
        "        # iが求められたシーケンス長以上、つまりパディングの必要がないなら\n",
        "        if (i >= self.sequence_length - 1):\n",
        "            i_start = i - self.sequence_length + 1\n",
        "            x = self.X[i_start:(i+1), :]\n",
        "        else:\n",
        "            padding = self.X[0].repeat(self.sequence_length - i - 1, 1)\n",
        "            x = self.X[0:(i+1), :]\n",
        "            x = torch.cat((padding, x), 0)\n",
        "            \n",
        "        return x, self.y[i] # self.y[i]は、実際は1時間後のcount"
      ]
    },
    {
      "cell_type": "code",
      "execution_count": null,
      "id": "2d0e0148",
      "metadata": {
        "execution": {
          "iopub.execute_input": "2022-11-09T06:50:10.631553Z",
          "iopub.status.busy": "2022-11-09T06:50:10.631304Z",
          "iopub.status.idle": "2022-11-09T06:50:10.638306Z",
          "shell.execute_reply": "2022-11-09T06:50:10.637265Z"
        },
        "papermill": {
          "duration": 0.013427,
          "end_time": "2022-11-09T06:50:10.640729",
          "exception": false,
          "start_time": "2022-11-09T06:50:10.627302",
          "status": "completed"
        },
        "tags": [],
        "id": "2d0e0148"
      },
      "outputs": [],
      "source": [
        "# テストデータセットクラス\n",
        "class SequenceDatasetForTest(Dataset):\n",
        "    def __init__(self, dataframe, features, sequence_length=SEQUENCE_LENGTH):\n",
        "        self.features = features\n",
        "        self.sequence_length = sequence_length\n",
        "        self.X = torch.tensor(dataframe[features].values).float()\n",
        "        \n",
        "    def __len__(self):\n",
        "        return self.X.shape[0]\n",
        "    \n",
        "    def __getitem__(self, i):\n",
        "        # iが求められたシーケンス長以上、つまりパディングの必要がないなら\n",
        "        if (i >= self.sequence_length - 1):\n",
        "            i_start = i - self.sequence_length + 1\n",
        "            x = self.X[i_start:(i+1), :]\n",
        "        else:\n",
        "            padding = self.X[0].repeat(self.sequence_length - i - 1, 1)\n",
        "            x = self.X[0:(i+1), :]\n",
        "            x = torch.cat((padding, x), 0)\n",
        "            \n",
        "        return x"
      ]
    },
    {
      "cell_type": "code",
      "execution_count": null,
      "id": "9141964c",
      "metadata": {
        "execution": {
          "iopub.execute_input": "2022-11-09T06:50:10.647849Z",
          "iopub.status.busy": "2022-11-09T06:50:10.647586Z",
          "iopub.status.idle": "2022-11-09T06:50:10.657428Z",
          "shell.execute_reply": "2022-11-09T06:50:10.656566Z"
        },
        "papermill": {
          "duration": 0.015675,
          "end_time": "2022-11-09T06:50:10.659447",
          "exception": false,
          "start_time": "2022-11-09T06:50:10.643772",
          "status": "completed"
        },
        "tags": [],
        "id": "9141964c"
      },
      "outputs": [],
      "source": [
        "train_dataset = SequenceDataset(train_df, target=target, features=features)\n",
        "train_loader = DataLoader(train_dataset, batch_size=BATCH_SIZE, shuffle=True)\n",
        "\n",
        "test_dataset = SequenceDatasetForTest(test_df, features=features)\n",
        "test_loader = DataLoader(test_dataset, batch_size=BATCH_SIZE, shuffle=False)\n",
        "\n",
        "val_dataset = SequenceDataset(val_df, target=target, features=features)\n",
        "val_loader = DataLoader(val_dataset, batch_size=BATCH_SIZE, shuffle=False)"
      ]
    },
    {
      "cell_type": "code",
      "execution_count": null,
      "id": "8ddc2ed5",
      "metadata": {
        "execution": {
          "iopub.execute_input": "2022-11-09T06:50:10.666769Z",
          "iopub.status.busy": "2022-11-09T06:50:10.666520Z",
          "iopub.status.idle": "2022-11-09T06:50:10.672856Z",
          "shell.execute_reply": "2022-11-09T06:50:10.671636Z"
        },
        "papermill": {
          "duration": 0.01274,
          "end_time": "2022-11-09T06:50:10.675396",
          "exception": false,
          "start_time": "2022-11-09T06:50:10.662656",
          "status": "completed"
        },
        "tags": [],
        "id": "8ddc2ed5"
      },
      "outputs": [],
      "source": [
        "class RegressionLSTM(nn.Module):\n",
        "    def __init__(self, input_dim, hidden_dim, output_dim):\n",
        "        super().__init__()\n",
        "        self.hidden_dim = hidden_dim\n",
        "\n",
        "        self.lstm1 = nn.LSTM(input_dim, hidden_dim, batch_first=True)\n",
        "        self.fc = nn.Linear(hidden_dim, output_dim)\n",
        "    \n",
        "    def forward(self, x):\n",
        "        output, (hn, _) = self.lstm1(x)\n",
        "        hn = hn.squeeze(0)\n",
        "        return self.fc(hn).flatten()"
      ]
    },
    {
      "cell_type": "code",
      "execution_count": null,
      "id": "fd672247",
      "metadata": {
        "execution": {
          "iopub.execute_input": "2022-11-09T06:50:10.683259Z",
          "iopub.status.busy": "2022-11-09T06:50:10.682986Z",
          "iopub.status.idle": "2022-11-09T06:50:10.693812Z",
          "shell.execute_reply": "2022-11-09T06:50:10.692780Z"
        },
        "papermill": {
          "duration": 0.017411,
          "end_time": "2022-11-09T06:50:10.695994",
          "exception": false,
          "start_time": "2022-11-09T06:50:10.678583",
          "status": "completed"
        },
        "tags": [],
        "id": "fd672247"
      },
      "outputs": [],
      "source": [
        "# 以下のコードは、https://qiita.com/ku_a_i/items/ba33c9ce3449da23b503 より引用\n",
        "class EarlyStopping:\n",
        "    \"\"\"earlystoppingクラス\"\"\"\n",
        "\n",
        "    def __init__(self, patience=5, verbose=False, path='checkpoint_model.pth'):\n",
        "        \"\"\"引数：最小値の非更新数カウンタ、表示設定、モデル格納path\"\"\"\n",
        "\n",
        "        self.patience = patience    #設定ストップカウンタ\n",
        "        self.verbose = verbose      #表示の有無\n",
        "        self.counter = 0            #現在のカウンタ値\n",
        "        self.best_score = None      #ベストスコア\n",
        "        self.early_stop = False     #ストップフラグ\n",
        "        self.val_loss_min = np.Inf   #前回のベストスコア記憶用\n",
        "        self.path = path             #ベストモデル格納path\n",
        "\n",
        "    def __call__(self, val_loss, model):\n",
        "        \"\"\"\n",
        "        特殊(call)メソッド\n",
        "        実際に学習ループ内で最小lossを更新したか否かを計算させる部分\n",
        "        \"\"\"\n",
        "        score = -val_loss\n",
        "\n",
        "        if self.best_score is None:  #1Epoch目の処理\n",
        "            self.best_score = score   #1Epoch目はそのままベストスコアとして記録する\n",
        "            self.checkpoint(val_loss, model)  #記録後にモデルを保存してスコア表示する\n",
        "        elif score < self.best_score:  # ベストスコアを更新できなかった場合\n",
        "            self.counter += 1   #ストップカウンタを+1\n",
        "            if self.verbose:  #表示を有効にした場合は経過を表示\n",
        "                print(f'EarlyStopping counter: {self.counter} out of {self.patience}')  #現在のカウンタを表示する \n",
        "            if self.counter >= self.patience:  #設定カウントを上回ったらストップフラグをTrueに変更\n",
        "                self.early_stop = True\n",
        "        else:  #ベストスコアを更新した場合\n",
        "            self.best_score = score  #ベストスコアを上書き\n",
        "            self.checkpoint(val_loss, model)  #モデルを保存してスコア表示\n",
        "            self.counter = 0  #ストップカウンタリセット\n",
        "\n",
        "    def checkpoint(self, val_loss, model):\n",
        "        '''ベストスコア更新時に実行されるチェックポイント関数'''\n",
        "        if self.verbose:  #表示を有効にした場合は、前回のベストスコアからどれだけ更新したか？を表示\n",
        "            print(f'Validation loss decreased ({self.val_loss_min:.6f} --> {val_loss:.6f}).  Saving model ...')\n",
        "        torch.save(model.state_dict(), self.path)  #ベストモデルを指定したpathに保存\n",
        "        self.val_loss_min = val_loss  #その時のlossを記録する"
      ]
    },
    {
      "cell_type": "code",
      "execution_count": null,
      "id": "bb7d2500",
      "metadata": {
        "execution": {
          "iopub.execute_input": "2022-11-09T06:50:10.703431Z",
          "iopub.status.busy": "2022-11-09T06:50:10.703182Z",
          "iopub.status.idle": "2022-11-09T06:50:10.711063Z",
          "shell.execute_reply": "2022-11-09T06:50:10.710134Z"
        },
        "papermill": {
          "duration": 0.013855,
          "end_time": "2022-11-09T06:50:10.713033",
          "exception": false,
          "start_time": "2022-11-09T06:50:10.699178",
          "status": "completed"
        },
        "tags": [],
        "id": "bb7d2500"
      },
      "outputs": [],
      "source": [
        "learning_rate = 0.0001\n",
        "num_hidden_dim = 50\n",
        "output_dim = 1\n",
        "\n",
        "model = RegressionLSTM(len(features), num_hidden_dim, output_dim)\n",
        "loss_function = nn.MSELoss()\n",
        "optimizer = optim.Adam(model.parameters(), lr=learning_rate)"
      ]
    },
    {
      "cell_type": "code",
      "execution_count": null,
      "id": "74d31a0a",
      "metadata": {
        "execution": {
          "iopub.execute_input": "2022-11-09T06:50:10.720461Z",
          "iopub.status.busy": "2022-11-09T06:50:10.720212Z",
          "iopub.status.idle": "2022-11-09T06:53:11.469818Z",
          "shell.execute_reply": "2022-11-09T06:53:11.468571Z"
        },
        "papermill": {
          "duration": 180.756142,
          "end_time": "2022-11-09T06:53:11.472555",
          "exception": false,
          "start_time": "2022-11-09T06:50:10.716413",
          "status": "completed"
        },
        "tags": [],
        "id": "74d31a0a"
      },
      "outputs": [],
      "source": [
        "device = torch.device('cuda:0' if torch.cuda.is_available() else 'cpu')\n",
        "print(f\"device: {device}\")\n",
        "model.to(device)\n",
        "\n",
        "earlystopping = EarlyStopping(patience=5, verbose=True)\n",
        "\n",
        "for epoch in range(100000):\n",
        "    num_batches = len(train_loader)\n",
        "    sumloss = 0.0\n",
        "    model.train()\n",
        "    \n",
        "    for data in train_loader:\n",
        "        X = data[0].to(device)\n",
        "        y = data[1].to(device)        \n",
        "        a = model(X)\n",
        "        loss = loss_function(a, y)\n",
        "        \n",
        "        optimizer.zero_grad()\n",
        "        loss.backward()\n",
        "        optimizer.step()\n",
        "        sumloss += loss.item()\n",
        "        \n",
        "    arg_loss = sumloss / num_batches\n",
        "    print()\n",
        "    print(f\"train:{epoch:06} {arg_loss}\")\n",
        "    \n",
        "    num_batches_val = len(val_loader)\n",
        "    sumloss_val = 0.0\n",
        "    model.eval()\n",
        "    \n",
        "    with torch.no_grad():\n",
        "        for data in val_loader:\n",
        "            X = data[0].to(device)\n",
        "            y = data[1].to(device)        \n",
        "            a = model(X)\n",
        "            sumloss_val += loss_function(a, y).item()\n",
        "            \n",
        "    arg_loss_val = sumloss_val / num_batches_val\n",
        "    print(f\"val  :{epoch:06} {arg_loss_val}\")\n",
        "    \n",
        "    earlystopping(arg_loss_val, model)\n",
        "    if earlystopping.early_stop:\n",
        "        print(\"Early Stopping!\")\n",
        "        break"
      ]
    },
    {
      "cell_type": "code",
      "execution_count": null,
      "id": "ee6e39be",
      "metadata": {
        "execution": {
          "iopub.execute_input": "2022-11-09T06:53:11.501481Z",
          "iopub.status.busy": "2022-11-09T06:53:11.501023Z",
          "iopub.status.idle": "2022-11-09T06:53:12.238816Z",
          "shell.execute_reply": "2022-11-09T06:53:12.237815Z"
        },
        "papermill": {
          "duration": 0.752648,
          "end_time": "2022-11-09T06:53:12.241996",
          "exception": false,
          "start_time": "2022-11-09T06:53:11.489348",
          "status": "completed"
        },
        "tags": [],
        "id": "ee6e39be"
      },
      "outputs": [],
      "source": [
        "def predict(data_loader, model):\n",
        "    output = torch.tensor([])\n",
        "    output = output.to(device)\n",
        "    model.eval()\n",
        "    with torch.no_grad():\n",
        "        for X in data_loader:\n",
        "            a = model(X.to(device))\n",
        "            output = torch.cat((output, a), 0)\n",
        "    \n",
        "    return output\n",
        "\n",
        "model.load_state_dict(torch.load('checkpoint_model.pth'))\n",
        "\n",
        "a_col = \"model predict\"\n",
        "output = predict(test_loader, model)\n",
        "output = output.to('cpu')\n",
        "test_df[a_col] = output.numpy()\n",
        "out_df = test_df[[\"datetime\", a_col]]\n",
        "\n",
        "out_df.columns = [\"datetime\", \"count\"]\n",
        "out_df.loc[out_df[\"count\"] < 0, \"count\"] = 0.0\n",
        "out_df = out_df.set_index(\"datetime\")\n",
        "out_df.to_csv(\"submission.csv\")"
      ]
    }
  ],
  "metadata": {
    "kernelspec": {
      "display_name": "Python 3",
      "language": "python",
      "name": "python3"
    },
    "language_info": {
      "codemirror_mode": {
        "name": "ipython",
        "version": 3
      },
      "file_extension": ".py",
      "mimetype": "text/x-python",
      "name": "python",
      "nbconvert_exporter": "python",
      "pygments_lexer": "ipython3",
      "version": "3.7.12"
    },
    "papermill": {
      "default_parameters": {},
      "duration": 193.112598,
      "end_time": "2022-11-09T06:53:13.473620",
      "environment_variables": {},
      "exception": null,
      "input_path": "__notebook__.ipynb",
      "output_path": "__notebook__.ipynb",
      "parameters": {},
      "start_time": "2022-11-09T06:50:00.361022",
      "version": "2.3.4"
    },
    "colab": {
      "provenance": [],
      "include_colab_link": true
    }
  },
  "nbformat": 4,
  "nbformat_minor": 5
}